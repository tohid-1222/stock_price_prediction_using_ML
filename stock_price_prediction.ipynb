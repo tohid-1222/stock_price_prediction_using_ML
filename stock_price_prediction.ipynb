{
 "cells": [
  {
   "cell_type": "code",
   "execution_count": 58,
   "metadata": {},
   "outputs": [],
   "source": [
    "# Import the necessary libraries\n",
    "import yfinance as yf\n",
    "from datetime import datetime, timedelta\n",
    "import pandas as pd"
   ]
  },
  {
   "cell_type": "markdown",
   "metadata": {},
   "source": [
    "### Gathering Historical Data\n",
    "We wll use the yfinance library in Python to fetch historical stock price data for NVIDIA (NVDA). This library allows us to download historical market data from Yahoo Finance."
   ]
  },
  {
   "cell_type": "code",
   "execution_count": 59,
   "metadata": {},
   "outputs": [],
   "source": [
    "# Define the stock ticker symbol\n",
    "ticker_symbol = 'NVDA'\n",
    "\n",
    "# Create a ticker object\n",
    "ticker_data = yf.Ticker(ticker_symbol)\n",
    "\n",
    "# Calculate dates: from today to ten years ago\n",
    "end_date = datetime.today().strftime('%Y-%m-%d')\n",
    "start_date = (datetime.today() - timedelta(days=365*10)).strftime('%Y-%m-%d')\n",
    "\n",
    "# Fetch historical data\n",
    "historical_data = ticker_data.history(period='1d', start=start_date, end=end_date)"
   ]
  },
  {
   "cell_type": "code",
   "execution_count": 60,
   "metadata": {},
   "outputs": [
    {
     "name": "stdout",
     "output_type": "stream",
     "text": [
      "Shape of the fetched data: (2513, 7)\n"
     ]
    },
    {
     "data": {
      "text/html": [
       "<div>\n",
       "<style scoped>\n",
       "    .dataframe tbody tr th:only-of-type {\n",
       "        vertical-align: middle;\n",
       "    }\n",
       "\n",
       "    .dataframe tbody tr th {\n",
       "        vertical-align: top;\n",
       "    }\n",
       "\n",
       "    .dataframe thead th {\n",
       "        text-align: right;\n",
       "    }\n",
       "</style>\n",
       "<table border=\"1\" class=\"dataframe\">\n",
       "  <thead>\n",
       "    <tr style=\"text-align: right;\">\n",
       "      <th></th>\n",
       "      <th>Open</th>\n",
       "      <th>High</th>\n",
       "      <th>Low</th>\n",
       "      <th>Close</th>\n",
       "      <th>Volume</th>\n",
       "      <th>Dividends</th>\n",
       "      <th>Stock Splits</th>\n",
       "    </tr>\n",
       "    <tr>\n",
       "      <th>Date</th>\n",
       "      <th></th>\n",
       "      <th></th>\n",
       "      <th></th>\n",
       "      <th></th>\n",
       "      <th></th>\n",
       "      <th></th>\n",
       "      <th></th>\n",
       "    </tr>\n",
       "  </thead>\n",
       "  <tbody>\n",
       "    <tr>\n",
       "      <th>2014-01-21 00:00:00-05:00</th>\n",
       "      <td>3.776101</td>\n",
       "      <td>3.809121</td>\n",
       "      <td>3.745439</td>\n",
       "      <td>3.785535</td>\n",
       "      <td>24607600</td>\n",
       "      <td>0.0</td>\n",
       "      <td>0.0</td>\n",
       "    </tr>\n",
       "    <tr>\n",
       "      <th>2014-01-22 00:00:00-05:00</th>\n",
       "      <td>3.792612</td>\n",
       "      <td>3.797329</td>\n",
       "      <td>3.736006</td>\n",
       "      <td>3.780819</td>\n",
       "      <td>33794000</td>\n",
       "      <td>0.0</td>\n",
       "      <td>0.0</td>\n",
       "    </tr>\n",
       "    <tr>\n",
       "      <th>2014-01-23 00:00:00-05:00</th>\n",
       "      <td>3.769025</td>\n",
       "      <td>3.809121</td>\n",
       "      <td>3.738363</td>\n",
       "      <td>3.766666</td>\n",
       "      <td>18502800</td>\n",
       "      <td>0.0</td>\n",
       "      <td>0.0</td>\n",
       "    </tr>\n",
       "    <tr>\n",
       "      <th>2014-01-24 00:00:00-05:00</th>\n",
       "      <td>3.736006</td>\n",
       "      <td>3.750157</td>\n",
       "      <td>3.669965</td>\n",
       "      <td>3.669965</td>\n",
       "      <td>24669600</td>\n",
       "      <td>0.0</td>\n",
       "      <td>0.0</td>\n",
       "    </tr>\n",
       "    <tr>\n",
       "      <th>2014-01-27 00:00:00-05:00</th>\n",
       "      <td>3.669964</td>\n",
       "      <td>3.721853</td>\n",
       "      <td>3.625151</td>\n",
       "      <td>3.646378</td>\n",
       "      <td>23381200</td>\n",
       "      <td>0.0</td>\n",
       "      <td>0.0</td>\n",
       "    </tr>\n",
       "  </tbody>\n",
       "</table>\n",
       "</div>"
      ],
      "text/plain": [
       "                               Open      High       Low     Close    Volume  \\\n",
       "Date                                                                          \n",
       "2014-01-21 00:00:00-05:00  3.776101  3.809121  3.745439  3.785535  24607600   \n",
       "2014-01-22 00:00:00-05:00  3.792612  3.797329  3.736006  3.780819  33794000   \n",
       "2014-01-23 00:00:00-05:00  3.769025  3.809121  3.738363  3.766666  18502800   \n",
       "2014-01-24 00:00:00-05:00  3.736006  3.750157  3.669965  3.669965  24669600   \n",
       "2014-01-27 00:00:00-05:00  3.669964  3.721853  3.625151  3.646378  23381200   \n",
       "\n",
       "                           Dividends  Stock Splits  \n",
       "Date                                                \n",
       "2014-01-21 00:00:00-05:00        0.0           0.0  \n",
       "2014-01-22 00:00:00-05:00        0.0           0.0  \n",
       "2014-01-23 00:00:00-05:00        0.0           0.0  \n",
       "2014-01-24 00:00:00-05:00        0.0           0.0  \n",
       "2014-01-27 00:00:00-05:00        0.0           0.0  "
      ]
     },
     "execution_count": 60,
     "metadata": {},
     "output_type": "execute_result"
    }
   ],
   "source": [
    "# Print the shape of the fetched data\n",
    "print(f\"Shape of the fetched data: {historical_data.shape}\")\n",
    "\n",
    "# Display first few rows of the data\n",
    "historical_data.head()"
   ]
  },
  {
   "cell_type": "code",
   "execution_count": 61,
   "metadata": {},
   "outputs": [
    {
     "data": {
      "text/plain": [
       "<Axes: xlabel='Date'>"
      ]
     },
     "execution_count": 61,
     "metadata": {},
     "output_type": "execute_result"
    },
    {
     "data": {
      "image/png": "[encoded data removed]",
      "text/plain": [
       "<Figure size 640x480 with 1 Axes>"
      ]
     },
     "metadata": {},
     "output_type": "display_data"
    }
   ],
   "source": [
    "historical_data.plot(y=\"Close\", use_index=True)"
   ]
  },
  {
   "cell_type": "markdown",
   "metadata": {},
   "source": [
    "### Data Preprocessing\n",
    "Once we have the data, the next step is to clean and preprocess it. This includes handling missing values, filtering the relevant columns (like date, open, high, low, close, volume)"
   ]
  },
  {
   "cell_type": "code",
   "execution_count": 62,
   "metadata": {},
   "outputs": [
    {
     "data": {
      "text/html": [
       "<div>\n",
       "<style scoped>\n",
       "    .dataframe tbody tr th:only-of-type {\n",
       "        vertical-align: middle;\n",
       "    }\n",
       "\n",
       "    .dataframe tbody tr th {\n",
       "        vertical-align: top;\n",
       "    }\n",
       "\n",
       "    .dataframe thead th {\n",
       "        text-align: right;\n",
       "    }\n",
       "</style>\n",
       "<table border=\"1\" class=\"dataframe\">\n",
       "  <thead>\n",
       "    <tr style=\"text-align: right;\">\n",
       "      <th></th>\n",
       "      <th>Open</th>\n",
       "      <th>High</th>\n",
       "      <th>Low</th>\n",
       "      <th>Close</th>\n",
       "      <th>Volume</th>\n",
       "    </tr>\n",
       "    <tr>\n",
       "      <th>Date</th>\n",
       "      <th></th>\n",
       "      <th></th>\n",
       "      <th></th>\n",
       "      <th></th>\n",
       "      <th></th>\n",
       "    </tr>\n",
       "  </thead>\n",
       "  <tbody>\n",
       "    <tr>\n",
       "      <th>2014-01-21 00:00:00-05:00</th>\n",
       "      <td>3.776101</td>\n",
       "      <td>3.809121</td>\n",
       "      <td>3.745439</td>\n",
       "      <td>3.785535</td>\n",
       "      <td>24607600</td>\n",
       "    </tr>\n",
       "    <tr>\n",
       "      <th>2014-01-22 00:00:00-05:00</th>\n",
       "      <td>3.792612</td>\n",
       "      <td>3.797329</td>\n",
       "      <td>3.736006</td>\n",
       "      <td>3.780819</td>\n",
       "      <td>33794000</td>\n",
       "    </tr>\n",
       "    <tr>\n",
       "      <th>2014-01-23 00:00:00-05:00</th>\n",
       "      <td>3.769025</td>\n",
       "      <td>3.809121</td>\n",
       "      <td>3.738363</td>\n",
       "      <td>3.766666</td>\n",
       "      <td>18502800</td>\n",
       "    </tr>\n",
       "    <tr>\n",
       "      <th>2014-01-24 00:00:00-05:00</th>\n",
       "      <td>3.736006</td>\n",
       "      <td>3.750157</td>\n",
       "      <td>3.669965</td>\n",
       "      <td>3.669965</td>\n",
       "      <td>24669600</td>\n",
       "    </tr>\n",
       "    <tr>\n",
       "      <th>2014-01-27 00:00:00-05:00</th>\n",
       "      <td>3.669964</td>\n",
       "      <td>3.721853</td>\n",
       "      <td>3.625151</td>\n",
       "      <td>3.646378</td>\n",
       "      <td>23381200</td>\n",
       "    </tr>\n",
       "  </tbody>\n",
       "</table>\n",
       "</div>"
      ],
      "text/plain": [
       "                               Open      High       Low     Close    Volume\n",
       "Date                                                                       \n",
       "2014-01-21 00:00:00-05:00  3.776101  3.809121  3.745439  3.785535  24607600\n",
       "2014-01-22 00:00:00-05:00  3.792612  3.797329  3.736006  3.780819  33794000\n",
       "2014-01-23 00:00:00-05:00  3.769025  3.809121  3.738363  3.766666  18502800\n",
       "2014-01-24 00:00:00-05:00  3.736006  3.750157  3.669965  3.669965  24669600\n",
       "2014-01-27 00:00:00-05:00  3.669964  3.721853  3.625151  3.646378  23381200"
      ]
     },
     "execution_count": 62,
     "metadata": {},
     "output_type": "execute_result"
    }
   ],
   "source": [
    "# Delete unnecessary columns\n",
    "del historical_data[\"Stock Splits\"]\n",
    "del historical_data[\"Dividends\"]\n",
    "historical_data.head()"
   ]
  },
  {
   "cell_type": "code",
   "execution_count": 63,
   "metadata": {},
   "outputs": [
    {
     "name": "stdout",
     "output_type": "stream",
     "text": [
      "Missing values in each column:\n",
      " Open      0\n",
      "High      0\n",
      "Low       0\n",
      "Close     0\n",
      "Volume    0\n",
      "dtype: int64\n"
     ]
    }
   ],
   "source": [
    "# 1. Handling Missing Values\n",
    "# Check for missing values\n",
    "print(\"Missing values in each column:\\n\", historical_data.isnull().sum())"
   ]
  },
  {
   "cell_type": "code",
   "execution_count": 64,
   "metadata": {},
   "outputs": [
    {
     "data": {
      "text/html": [
       "<div>\n",
       "<style scoped>\n",
       "    .dataframe tbody tr th:only-of-type {\n",
       "        vertical-align: middle;\n",
       "    }\n",
       "\n",
       "    .dataframe tbody tr th {\n",
       "        vertical-align: top;\n",
       "    }\n",
       "\n",
       "    .dataframe thead th {\n",
       "        text-align: right;\n",
       "    }\n",
       "</style>\n",
       "<table border=\"1\" class=\"dataframe\">\n",
       "  <thead>\n",
       "    <tr style=\"text-align: right;\">\n",
       "      <th></th>\n",
       "      <th>Open</th>\n",
       "      <th>High</th>\n",
       "      <th>Low</th>\n",
       "      <th>Close</th>\n",
       "      <th>Volume</th>\n",
       "      <th>Price_Change</th>\n",
       "      <th>Target</th>\n",
       "    </tr>\n",
       "    <tr>\n",
       "      <th>Date</th>\n",
       "      <th></th>\n",
       "      <th></th>\n",
       "      <th></th>\n",
       "      <th></th>\n",
       "      <th></th>\n",
       "      <th></th>\n",
       "      <th></th>\n",
       "    </tr>\n",
       "  </thead>\n",
       "  <tbody>\n",
       "    <tr>\n",
       "      <th>2024-01-08 00:00:00-05:00</th>\n",
       "      <td>495.119995</td>\n",
       "      <td>522.750000</td>\n",
       "      <td>494.790009</td>\n",
       "      <td>522.530029</td>\n",
       "      <td>64251000</td>\n",
       "      <td>31.560028</td>\n",
       "      <td>1</td>\n",
       "    </tr>\n",
       "    <tr>\n",
       "      <th>2024-01-09 00:00:00-05:00</th>\n",
       "      <td>524.010010</td>\n",
       "      <td>543.250000</td>\n",
       "      <td>516.900024</td>\n",
       "      <td>531.400024</td>\n",
       "      <td>77310000</td>\n",
       "      <td>8.869995</td>\n",
       "      <td>1</td>\n",
       "    </tr>\n",
       "    <tr>\n",
       "      <th>2024-01-10 00:00:00-05:00</th>\n",
       "      <td>536.159973</td>\n",
       "      <td>546.000000</td>\n",
       "      <td>534.890015</td>\n",
       "      <td>543.500000</td>\n",
       "      <td>53379600</td>\n",
       "      <td>12.099976</td>\n",
       "      <td>1</td>\n",
       "    </tr>\n",
       "    <tr>\n",
       "      <th>2024-01-11 00:00:00-05:00</th>\n",
       "      <td>549.989990</td>\n",
       "      <td>553.460022</td>\n",
       "      <td>535.599976</td>\n",
       "      <td>548.219971</td>\n",
       "      <td>59675900</td>\n",
       "      <td>4.719971</td>\n",
       "      <td>1</td>\n",
       "    </tr>\n",
       "    <tr>\n",
       "      <th>2024-01-12 00:00:00-05:00</th>\n",
       "      <td>546.200012</td>\n",
       "      <td>549.700012</td>\n",
       "      <td>543.299988</td>\n",
       "      <td>547.099976</td>\n",
       "      <td>35247900</td>\n",
       "      <td>-1.119995</td>\n",
       "      <td>0</td>\n",
       "    </tr>\n",
       "  </tbody>\n",
       "</table>\n",
       "</div>"
      ],
      "text/plain": [
       "                                 Open        High         Low       Close  \\\n",
       "Date                                                                        \n",
       "2024-01-08 00:00:00-05:00  495.119995  522.750000  494.790009  522.530029   \n",
       "2024-01-09 00:00:00-05:00  524.010010  543.250000  516.900024  531.400024   \n",
       "2024-01-10 00:00:00-05:00  536.159973  546.000000  534.890015  543.500000   \n",
       "2024-01-11 00:00:00-05:00  549.989990  553.460022  535.599976  548.219971   \n",
       "2024-01-12 00:00:00-05:00  546.200012  549.700012  543.299988  547.099976   \n",
       "\n",
       "                             Volume  Price_Change  Target  \n",
       "Date                                                       \n",
       "2024-01-08 00:00:00-05:00  64251000     31.560028       1  \n",
       "2024-01-09 00:00:00-05:00  77310000      8.869995       1  \n",
       "2024-01-10 00:00:00-05:00  53379600     12.099976       1  \n",
       "2024-01-11 00:00:00-05:00  59675900      4.719971       1  \n",
       "2024-01-12 00:00:00-05:00  35247900     -1.119995       0  "
      ]
     },
     "execution_count": 64,
     "metadata": {},
     "output_type": "execute_result"
    }
   ],
   "source": [
    "# Create the target variable\n",
    "# Calculate the price change\n",
    "historical_data['Price_Change'] = historical_data['Close'].diff()\n",
    "\n",
    "# 1 if the price increased, 0 if it decreased or stayed the same\n",
    "historical_data['Target'] = (historical_data['Price_Change'] > 0).astype(int)\n",
    "\n",
    "# Drop the first row as it will have a NaN value for Price_Change\n",
    "historical_data.dropna(subset=['Price_Change'], inplace=True)\n",
    "\n",
    "# Display the data\n",
    "historical_data.tail()"
   ]
  },
  {
   "cell_type": "code",
   "execution_count": 65,
   "metadata": {},
   "outputs": [],
   "source": [
    "# Define features (X) and target (y)\n",
    "X = historical_data[['Open', 'High', 'Low', 'Close', 'Volume']]\n",
    "y = historical_data['Target']\n",
    "\n",
    "# Split data into training and testing sets\n",
    "test_size = 100  # Define the size of the test set\n",
    "X_train = X.iloc[:-test_size]\n",
    "y_train = y.iloc[:-test_size]\n",
    "X_test = X.iloc[-test_size:]\n",
    "y_test = y.iloc[-test_size:]"
   ]
  },
  {
   "cell_type": "code",
   "execution_count": 66,
   "metadata": {},
   "outputs": [],
   "source": [
    "from sklearn.ensemble import RandomForestClassifier\n",
    "from sklearn.metrics import accuracy_score, classification_report"
   ]
  },
  {
   "cell_type": "code",
   "execution_count": 67,
   "metadata": {},
   "outputs": [
    {
     "data": {
      "text/html": [
       "<style>#sk-container-id-4 {color: black;}#sk-container-id-4 pre{padding: 0;}#sk-container-id-4 div.sk-toggleable {background-color: white;}#sk-container-id-4 label.sk-toggleable__label {cursor: pointer;display: block;width: 100%;margin-bottom: 0;padding: 0.3em;box-sizing: border-box;text-align: center;}#sk-container-id-4 label.sk-toggleable__label-arrow:before {content: \"▸\";float: left;margin-right: 0.25em;color: #696969;}#sk-container-id-4 label.sk-toggleable__label-arrow:hover:before {color: black;}#sk-container-id-4 div.sk-estimator:hover label.sk-toggleable__label-arrow:before {color: black;}#sk-container-id-4 div.sk-toggleable__content {max-height: 0;max-width: 0;overflow: hidden;text-align: left;background-color: #f0f8ff;}#sk-container-id-4 div.sk-toggleable__content pre {margin: 0.2em;color: black;border-radius: 0.25em;background-color: #f0f8ff;}#sk-container-id-4 input.sk-toggleable__control:checked~div.sk-toggleable__content {max-height: 200px;max-width: 100%;overflow: auto;}#sk-container-id-4 input.sk-toggleable__control:checked~label.sk-toggleable__label-arrow:before {content: \"▾\";}#sk-container-id-4 div.sk-estimator input.sk-toggleable__control:checked~label.sk-toggleable__label {background-color: #d4ebff;}#sk-container-id-4 div.sk-label input.sk-toggleable__control:checked~label.sk-toggleable__label {background-color: #d4ebff;}#sk-container-id-4 input.sk-hidden--visually {border: 0;clip: rect(1px 1px 1px 1px);clip: rect(1px, 1px, 1px, 1px);height: 1px;margin: -1px;overflow: hidden;padding: 0;position: absolute;width: 1px;}#sk-container-id-4 div.sk-estimator {font-family: monospace;background-color: #f0f8ff;border: 1px dotted black;border-radius: 0.25em;box-sizing: border-box;margin-bottom: 0.5em;}#sk-container-id-4 div.sk-estimator:hover {background-color: #d4ebff;}#sk-container-id-4 div.sk-parallel-item::after {content: \"\";width: 100%;border-bottom: 1px solid gray;flex-grow: 1;}#sk-container-id-4 div.sk-label:hover label.sk-toggleable__label {background-color: #d4ebff;}#sk-container-id-4 div.sk-serial::before {content: \"\";position: absolute;border-left: 1px solid gray;box-sizing: border-box;top: 0;bottom: 0;left: 50%;z-index: 0;}#sk-container-id-4 div.sk-serial {display: flex;flex-direction: column;align-items: center;background-color: white;padding-right: 0.2em;padding-left: 0.2em;position: relative;}#sk-container-id-4 div.sk-item {position: relative;z-index: 1;}#sk-container-id-4 div.sk-parallel {display: flex;align-items: stretch;justify-content: center;background-color: white;position: relative;}#sk-container-id-4 div.sk-item::before, #sk-container-id-4 div.sk-parallel-item::before {content: \"\";position: absolute;border-left: 1px solid gray;box-sizing: border-box;top: 0;bottom: 0;left: 50%;z-index: -1;}#sk-container-id-4 div.sk-parallel-item {display: flex;flex-direction: column;z-index: 1;position: relative;background-color: white;}#sk-container-id-4 div.sk-parallel-item:first-child::after {align-self: flex-end;width: 50%;}#sk-container-id-4 div.sk-parallel-item:last-child::after {align-self: flex-start;width: 50%;}#sk-container-id-4 div.sk-parallel-item:only-child::after {width: 0;}#sk-container-id-4 div.sk-dashed-wrapped {border: 1px dashed gray;margin: 0 0.4em 0.5em 0.4em;box-sizing: border-box;padding-bottom: 0.4em;background-color: white;}#sk-container-id-4 div.sk-label label {font-family: monospace;font-weight: bold;display: inline-block;line-height: 1.2em;}#sk-container-id-4 div.sk-label-container {text-align: center;}#sk-container-id-4 div.sk-container {/* jupyter's `normalize.less` sets `[hidden] { display: none; }` but bootstrap.min.css set `[hidden] { display: none !important; }` so we also need the `!important` here to be able to override the default hidden behavior on the sphinx rendered scikit-learn.org. See: https://github.com/scikit-learn/scikit-learn/issues/21755 */display: inline-block !important;position: relative;}#sk-container-id-4 div.sk-text-repr-fallback {display: none;}</style><div id=\"sk-container-id-4\" class=\"sk-top-container\"><div class=\"sk-text-repr-fallback\"><pre>RandomForestClassifier(min_samples_split=100, random_state=42)</pre><b>In a Jupyter environment, please rerun this cell to show the HTML representation or trust the notebook. <br />On GitHub, the HTML representation is unable to render, please try loading this page with nbviewer.org.</b></div><div class=\"sk-container\" hidden><div class=\"sk-item\"><div class=\"sk-estimator sk-toggleable\"><input class=\"sk-toggleable__control sk-hidden--visually\" id=\"sk-estimator-id-4\" type=\"checkbox\" checked><label for=\"sk-estimator-id-4\" class=\"sk-toggleable__label sk-toggleable__label-arrow\">RandomForestClassifier</label><div class=\"sk-toggleable__content\"><pre>RandomForestClassifier(min_samples_split=100, random_state=42)</pre></div></div></div></div></div>"
      ],
      "text/plain": [
       "RandomForestClassifier(min_samples_split=100, random_state=42)"
      ]
     },
     "execution_count": 67,
     "metadata": {},
     "output_type": "execute_result"
    }
   ],
   "source": [
    "# Building RandomForest Model\n",
    "rf_model = RandomForestClassifier(n_estimators=100, min_samples_split=100, random_state=42)\n",
    "rf_model.fit(X_train, y_train)"
   ]
  },
  {
   "cell_type": "code",
   "execution_count": 68,
   "metadata": {},
   "outputs": [
    {
     "name": "stdout",
     "output_type": "stream",
     "text": [
      "Accuracy: 0.45\n",
      "Classification Report:\n",
      "               precision    recall  f1-score   support\n",
      "\n",
      "           0       0.43      0.98      0.59        41\n",
      "           1       0.83      0.08      0.15        59\n",
      "\n",
      "    accuracy                           0.45       100\n",
      "   macro avg       0.63      0.53      0.37       100\n",
      "weighted avg       0.67      0.45      0.33       100\n",
      "\n"
     ]
    }
   ],
   "source": [
    "# Predicting and Evaluating the Model\n",
    "y_pred = rf_model.predict(X_test)\n",
    "accuracy = accuracy_score(y_test, y_pred)\n",
    "print(\"Accuracy:\", accuracy)\n",
    "print(\"Classification Report:\\n\", classification_report(y_test, y_pred))"
   ]
  },
  {
   "cell_type": "code",
   "execution_count": 69,
   "metadata": {},
   "outputs": [],
   "source": [
    "y_preds = pd.Series(y_pred, index=y_test.index)"
   ]
  },
  {
   "cell_type": "code",
   "execution_count": 70,
   "metadata": {},
   "outputs": [
    {
     "data": {
      "text/html": [
       "<div>\n",
       "<style scoped>\n",
       "    .dataframe tbody tr th:only-of-type {\n",
       "        vertical-align: middle;\n",
       "    }\n",
       "\n",
       "    .dataframe tbody tr th {\n",
       "        vertical-align: top;\n",
       "    }\n",
       "\n",
       "    .dataframe thead th {\n",
       "        text-align: right;\n",
       "    }\n",
       "</style>\n",
       "<table border=\"1\" class=\"dataframe\">\n",
       "  <thead>\n",
       "    <tr style=\"text-align: right;\">\n",
       "      <th></th>\n",
       "      <th>Target</th>\n",
       "      <th>0</th>\n",
       "    </tr>\n",
       "    <tr>\n",
       "      <th>Date</th>\n",
       "      <th></th>\n",
       "      <th></th>\n",
       "    </tr>\n",
       "  </thead>\n",
       "  <tbody>\n",
       "    <tr>\n",
       "      <th>2023-08-22 00:00:00-04:00</th>\n",
       "      <td>0</td>\n",
       "      <td>0</td>\n",
       "    </tr>\n",
       "    <tr>\n",
       "      <th>2023-08-23 00:00:00-04:00</th>\n",
       "      <td>1</td>\n",
       "      <td>0</td>\n",
       "    </tr>\n",
       "    <tr>\n",
       "      <th>2023-08-24 00:00:00-04:00</th>\n",
       "      <td>1</td>\n",
       "      <td>0</td>\n",
       "    </tr>\n",
       "    <tr>\n",
       "      <th>2023-08-25 00:00:00-04:00</th>\n",
       "      <td>0</td>\n",
       "      <td>0</td>\n",
       "    </tr>\n",
       "    <tr>\n",
       "      <th>2023-08-28 00:00:00-04:00</th>\n",
       "      <td>1</td>\n",
       "      <td>0</td>\n",
       "    </tr>\n",
       "  </tbody>\n",
       "</table>\n",
       "</div>"
      ],
      "text/plain": [
       "                           Target  0\n",
       "Date                                \n",
       "2023-08-22 00:00:00-04:00       0  0\n",
       "2023-08-23 00:00:00-04:00       1  0\n",
       "2023-08-24 00:00:00-04:00       1  0\n",
       "2023-08-25 00:00:00-04:00       0  0\n",
       "2023-08-28 00:00:00-04:00       1  0"
      ]
     },
     "execution_count": 70,
     "metadata": {},
     "output_type": "execute_result"
    }
   ],
   "source": [
    "combined = pd.concat([y_test, y_preds], axis=1)\n",
    "combined.head()"
   ]
  },
  {
   "cell_type": "code",
   "execution_count": 73,
   "metadata": {},
   "outputs": [
    {
     "data": {
      "text/plain": [
       "<Axes: xlabel='Date'>"
      ]
     },
     "execution_count": 73,
     "metadata": {},
     "output_type": "execute_result"
    },
    {
     "data": {
      "image/png": "[encoded data removed]",
      "text/plain": [
       "<Figure size 640x480 with 1 Axes>"
      ]
     },
     "metadata": {},
     "output_type": "display_data"
    }
   ],
   "source": [
    "combined.plot()"
   ]
  },
  {
   "cell_type": "code",
   "execution_count": null,
   "metadata": {},
   "outputs": [],
   "source": []
  }
 ],
 "metadata": {
  "kernelspec": {
   "display_name": "Data_science",
   "language": "python",
   "name": "python3"
  },
  "language_info": {
   "codemirror_mode": {
    "name": "ipython",
    "version": 3
   },
   "file_extension": ".py",
   "mimetype": "text/x-python",
   "name": "python",
   "nbconvert_exporter": "python",
   "pygments_lexer": "ipython3",
   "version": "3.10.13"
  }
 },
 "nbformat": 4,
 "nbformat_minor": 2
}
